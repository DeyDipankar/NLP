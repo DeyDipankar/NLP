{
  "nbformat": 4,
  "nbformat_minor": 0,
  "metadata": {
    "accelerator": "GPU",
    "colab": {
      "name": "Course 3 - Week 3 - Lesson 2.ipynb",
      "provenance": [],
      "collapsed_sections": [],
      "toc_visible": true
    },
    "kernelspec": {
      "display_name": "Python 3",
      "language": "python",
      "name": "python3"
    },
    "language_info": {
      "codemirror_mode": {
        "name": "ipython",
        "version": 3
      },
      "file_extension": ".py",
      "mimetype": "text/x-python",
      "name": "python",
      "nbconvert_exporter": "python",
      "pygments_lexer": "ipython3",
      "version": "3.7.6"
    }
  },
  "cells": [
    {
      "cell_type": "code",
      "metadata": {
        "id": "zX4Kg8DUTKWO"
      },
      "source": [
        "#@title Licensed under the Apache License, Version 2.0 (the \"License\");\n",
        "# you may not use this file except in compliance with the License.\n",
        "# You may obtain a copy of the License at\n",
        "#\n",
        "# https://www.apache.org/licenses/LICENSE-2.0\n",
        "#\n",
        "# Unless required by applicable law or agreed to in writing, software\n",
        "# distributed under the License is distributed on an \"AS IS\" BASIS,\n",
        "# WITHOUT WARRANTIES OR CONDITIONS OF ANY KIND, either express or implied.\n",
        "# See the License for the specific language governing permissions and\n",
        "# limitations under the License."
      ],
      "execution_count": null,
      "outputs": []
    },
    {
      "cell_type": "markdown",
      "metadata": {
        "id": "OuEQsfNbYsWy"
      },
      "source": [
        "<a href=\"https://colab.research.google.com/github/lmoroney/dlaicourse/blob/master/TensorFlow%20In%20Practice/Course%203%20-%20NLP/Course%203%20-%20Week%203%20-%20Lesson%202.ipynb\" target=\"_parent\"><img src=\"https://colab.research.google.com/assets/colab-badge.svg\" alt=\"Open In Colab\"/></a>"
      ]
    },
    {
      "cell_type": "code",
      "metadata": {
        "colab": {
          "base_uri": "https://localhost:8080/"
        },
        "id": "jGwXGIXvFhXW",
        "outputId": "a0ba3f96-a4be-4c57-a75a-55f4dfb0e1d1"
      },
      "source": [
        "import numpy as np\n",
        "\n",
        "import json\n",
        "import tensorflow as tf\n",
        "\n",
        "from tensorflow.keras.preprocessing.text import Tokenizer\n",
        "from tensorflow.keras.preprocessing.sequence import pad_sequences\n",
        "\n",
        "!wget --no-check-certificate \\\n",
        "    https://storage.googleapis.com/laurencemoroney-blog.appspot.com/sarcasm.json \\\n",
        "    -O /tmp/sarcasm.json\n",
        "\n",
        "vocab_size = 5000\n",
        "embedding_dim = 32\n",
        "max_length = 120\n",
        "trunc_type='post'\n",
        "padding_type='post'\n",
        "oov_tok = \"<OOV>\"\n",
        "training_size = 20000\n",
        "\n",
        "\n",
        "with open(\"/tmp/sarcasm.json\", 'r') as f:\n",
        "    datastore = json.load(f)\n",
        "\n",
        "\n",
        "sentences = []\n",
        "labels = []\n",
        "urls = []\n",
        "for item in datastore:\n",
        "    sentences.append(item['headline'])\n",
        "    labels.append(item['is_sarcastic'])\n",
        "\n",
        "training_sentences = sentences[0:training_size]\n",
        "testing_sentences = sentences[training_size:]\n",
        "training_labels = labels[0:training_size]\n",
        "testing_labels = labels[training_size:]\n",
        "\n",
        "tokenizer = Tokenizer(num_words=vocab_size, oov_token=oov_tok)\n",
        "tokenizer.fit_on_texts(training_sentences)\n",
        "\n",
        "word_index = tokenizer.word_index\n",
        "\n",
        "training_sequences = tokenizer.texts_to_sequences(training_sentences)\n",
        "training_padded = pad_sequences(training_sequences, maxlen=max_length, padding=padding_type, truncating=trunc_type)\n",
        "\n",
        "testing_sequences = tokenizer.texts_to_sequences(testing_sentences)\n",
        "testing_padded = pad_sequences(testing_sequences, maxlen=max_length, padding=padding_type, truncating=trunc_type)\n",
        "\n",
        "model = tf.keras.Sequential([\n",
        "    tf.keras.layers.Embedding(vocab_size, embedding_dim, input_length=max_length),\n",
        "    tf.keras.layers.GlobalAveragePooling1D(),\n",
        "    #tf.keras.layers.Bidirectional(tf.keras.layers.LSTM(16)),\n",
        "    tf.keras.layers.Dense(32, activation='relu'),\n",
        "    tf.keras.layers.Dropout(0.3),\n",
        "    tf.keras.layers.Dense(1, activation='sigmoid')\n",
        "])\n",
        "model.compile(loss='binary_crossentropy',optimizer='adam',metrics=['accuracy'])\n",
        "model.summary()\n",
        "\n",
        "num_epochs = 20\n",
        "training_padded = np.array(training_padded)\n",
        "training_labels = np.array(training_labels)\n",
        "testing_padded = np.array(testing_padded)\n",
        "testing_labels = np.array(testing_labels)\n",
        "history = model.fit(training_padded, training_labels, epochs=num_epochs, validation_data=(testing_padded, testing_labels), verbose=1)\n"
      ],
      "execution_count": 25,
      "outputs": [
        {
          "output_type": "stream",
          "text": [
            "--2021-08-05 14:50:35--  https://storage.googleapis.com/laurencemoroney-blog.appspot.com/sarcasm.json\n",
            "Resolving storage.googleapis.com (storage.googleapis.com)... 142.251.2.128, 74.125.137.128, 142.250.141.128, ...\n",
            "Connecting to storage.googleapis.com (storage.googleapis.com)|142.251.2.128|:443... connected.\n",
            "HTTP request sent, awaiting response... 200 OK\n",
            "Length: 5643545 (5.4M) [application/json]\n",
            "Saving to: ‘/tmp/sarcasm.json’\n",
            "\n",
            "\r/tmp/sarcasm.json     0%[                    ]       0  --.-KB/s               \r/tmp/sarcasm.json   100%[===================>]   5.38M  --.-KB/s    in 0.02s   \n",
            "\n",
            "2021-08-05 14:50:35 (271 MB/s) - ‘/tmp/sarcasm.json’ saved [5643545/5643545]\n",
            "\n",
            "Model: \"sequential_13\"\n",
            "_________________________________________________________________\n",
            "Layer (type)                 Output Shape              Param #   \n",
            "=================================================================\n",
            "embedding_13 (Embedding)     (None, 120, 32)           160000    \n",
            "_________________________________________________________________\n",
            "global_average_pooling1d_3 ( (None, 32)                0         \n",
            "_________________________________________________________________\n",
            "dense_28 (Dense)             (None, 32)                1056      \n",
            "_________________________________________________________________\n",
            "dropout_2 (Dropout)          (None, 32)                0         \n",
            "_________________________________________________________________\n",
            "dense_29 (Dense)             (None, 1)                 33        \n",
            "=================================================================\n",
            "Total params: 161,089\n",
            "Trainable params: 161,089\n",
            "Non-trainable params: 0\n",
            "_________________________________________________________________\n",
            "Epoch 1/20\n",
            "625/625 [==============================] - 4s 6ms/step - loss: 0.6502 - accuracy: 0.6131 - val_loss: 0.5500 - val_accuracy: 0.6769\n",
            "Epoch 2/20\n",
            "625/625 [==============================] - 3s 6ms/step - loss: 0.4255 - accuracy: 0.8171 - val_loss: 0.3820 - val_accuracy: 0.8427\n",
            "Epoch 3/20\n",
            "625/625 [==============================] - 3s 5ms/step - loss: 0.3344 - accuracy: 0.8602 - val_loss: 0.3673 - val_accuracy: 0.8354\n",
            "Epoch 4/20\n",
            "625/625 [==============================] - 3s 6ms/step - loss: 0.2942 - accuracy: 0.8799 - val_loss: 0.3514 - val_accuracy: 0.8486\n",
            "Epoch 5/20\n",
            "625/625 [==============================] - 3s 5ms/step - loss: 0.2637 - accuracy: 0.8926 - val_loss: 0.3651 - val_accuracy: 0.8419\n",
            "Epoch 6/20\n",
            "625/625 [==============================] - 3s 5ms/step - loss: 0.2485 - accuracy: 0.9019 - val_loss: 0.3719 - val_accuracy: 0.8414\n",
            "Epoch 7/20\n",
            "625/625 [==============================] - 3s 5ms/step - loss: 0.2333 - accuracy: 0.9078 - val_loss: 0.3764 - val_accuracy: 0.8410\n",
            "Epoch 8/20\n",
            "625/625 [==============================] - 3s 6ms/step - loss: 0.2214 - accuracy: 0.9105 - val_loss: 0.3916 - val_accuracy: 0.8392\n",
            "Epoch 9/20\n",
            "625/625 [==============================] - 3s 5ms/step - loss: 0.2101 - accuracy: 0.9207 - val_loss: 0.4011 - val_accuracy: 0.8407\n",
            "Epoch 10/20\n",
            "625/625 [==============================] - 3s 5ms/step - loss: 0.2017 - accuracy: 0.9231 - val_loss: 0.4191 - val_accuracy: 0.8399\n",
            "Epoch 11/20\n",
            "625/625 [==============================] - 3s 5ms/step - loss: 0.1969 - accuracy: 0.9268 - val_loss: 0.4218 - val_accuracy: 0.8380\n",
            "Epoch 12/20\n",
            "625/625 [==============================] - 3s 5ms/step - loss: 0.1903 - accuracy: 0.9319 - val_loss: 0.4536 - val_accuracy: 0.8258\n",
            "Epoch 13/20\n",
            "625/625 [==============================] - 3s 5ms/step - loss: 0.1825 - accuracy: 0.9344 - val_loss: 0.4541 - val_accuracy: 0.8299\n",
            "Epoch 14/20\n",
            "625/625 [==============================] - 3s 5ms/step - loss: 0.1772 - accuracy: 0.9357 - val_loss: 0.4625 - val_accuracy: 0.8332\n",
            "Epoch 15/20\n",
            "625/625 [==============================] - 3s 5ms/step - loss: 0.1719 - accuracy: 0.9405 - val_loss: 0.4749 - val_accuracy: 0.8332\n",
            "Epoch 16/20\n",
            "625/625 [==============================] - 3s 5ms/step - loss: 0.1680 - accuracy: 0.9409 - val_loss: 0.4974 - val_accuracy: 0.8316\n",
            "Epoch 17/20\n",
            "625/625 [==============================] - 3s 5ms/step - loss: 0.1673 - accuracy: 0.9417 - val_loss: 0.5115 - val_accuracy: 0.8307\n",
            "Epoch 18/20\n",
            "625/625 [==============================] - 3s 5ms/step - loss: 0.1623 - accuracy: 0.9432 - val_loss: 0.5106 - val_accuracy: 0.8296\n",
            "Epoch 19/20\n",
            "625/625 [==============================] - 3s 5ms/step - loss: 0.1575 - accuracy: 0.9481 - val_loss: 0.5549 - val_accuracy: 0.8210\n",
            "Epoch 20/20\n",
            "625/625 [==============================] - 3s 5ms/step - loss: 0.1558 - accuracy: 0.9466 - val_loss: 0.5441 - val_accuracy: 0.8247\n"
          ],
          "name": "stdout"
        }
      ]
    },
    {
      "cell_type": "code",
      "metadata": {
        "colab": {
          "base_uri": "https://localhost:8080/",
          "height": 541
        },
        "id": "g9DC6dmLF8DC",
        "outputId": "793719c5-3a5b-4491-be65-ac89e07590d5"
      },
      "source": [
        "# With embedding dimensions = 32, epochs = 50, LSTM unit = 32, overfitting exists\n",
        "import matplotlib.pyplot as plt\n",
        "\n",
        "\n",
        "def plot_graphs(history, string):\n",
        "  plt.plot(history.history[string])\n",
        "  plt.plot(history.history['val_'+string])\n",
        "  plt.xlabel(\"Epochs\")\n",
        "  plt.ylabel(string)\n",
        "  plt.legend([string, 'val_'+string])\n",
        "  plt.show()\n",
        "\n",
        "plot_graphs(history, 'accuracy')\n",
        "plot_graphs(history, 'loss')"
      ],
      "execution_count": 26,
      "outputs": [
        {
          "output_type": "display_data",
          "data": {
            "image/png": "[encoded data removed]",
            "text/plain": [
              "<Figure size 432x288 with 1 Axes>"
            ]
          },
          "metadata": {
            "tags": [],
            "needs_background": "light"
          }
        },
        {
          "output_type": "display_data",
          "data": {
            "image/png": "[encoded data removed]",
            "text/plain": [
              "<Figure size 432x288 with 1 Axes>"
            ]
          },
          "metadata": {
            "tags": [],
            "needs_background": "light"
          }
        }
      ]
    },
    {
      "cell_type": "code",
      "metadata": {
        "id": "7ZEZIUppGhdi"
      },
      "source": [
        "model.save(\"test.h5\")"
      ],
      "execution_count": null,
      "outputs": []
    }
  ]
}