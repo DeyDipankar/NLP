{
  "nbformat": 4,
  "nbformat_minor": 0,
  "metadata": {
    "colab": {
      "name": "Tokenization.ipynb",
      "provenance": []
    },
    "kernelspec": {
      "name": "python3",
      "display_name": "Python 3"
    },
    "language_info": {
      "name": "python"
    },
    "accelerator": "GPU"
  },
  "cells": [
    {
      "cell_type": "code",
      "metadata": {
        "colab": {
          "base_uri": "https://localhost:8080/"
        },
        "id": "W3Zdqf4Etc8e",
        "outputId": "1a39fd7d-eb1c-4c12-d578-16adf320a6ec"
      },
      "source": [
        "import nltk\n",
        "nltk.download('punkt')"
      ],
      "execution_count": 4,
      "outputs": [
        {
          "output_type": "stream",
          "text": [
            "[nltk_data] Downloading package punkt to /root/nltk_data...\n",
            "[nltk_data]   Unzipping tokenizers/punkt.zip.\n"
          ],
          "name": "stdout"
        },
        {
          "output_type": "execute_result",
          "data": {
            "text/plain": [
              "True"
            ]
          },
          "metadata": {
            "tags": []
          },
          "execution_count": 4
        }
      ]
    },
    {
      "cell_type": "code",
      "metadata": {
        "id": "kdPOG8fvuV3Q"
      },
      "source": [
        "sentence = '''Tokenization, when applied to data security, is the process of substituting a sensitive data element with a non-sensitive equivalent, referred to as a token, \\\n",
        "that has no extrinsic or exploitable meaning or value. The token is a reference that maps back to the sensitive data through a tokenization system.'''"
      ],
      "execution_count": 8,
      "outputs": []
    },
    {
      "cell_type": "code",
      "metadata": {
        "colab": {
          "base_uri": "https://localhost:8080/"
        },
        "id": "5PXuQ5PtuhQW",
        "outputId": "3118c1d1-ec04-4b25-fbe2-fc1ba1bdd5d5"
      },
      "source": [
        "tokenize_sentences = nltk.sent_tokenize(sentence)\n",
        "tokenize_sentences"
      ],
      "execution_count": 9,
      "outputs": [
        {
          "output_type": "execute_result",
          "data": {
            "text/plain": [
              "['Tokenization, when applied to data security, is the process of substituting a sensitive data element with a non-sensitive equivalent, referred to as a token, that has no extrinsic or exploitable meaning or value.',\n",
              " 'The token is a reference that maps back to the sensitive data through a tokenization system.']"
            ]
          },
          "metadata": {
            "tags": []
          },
          "execution_count": 9
        }
      ]
    },
    {
      "cell_type": "code",
      "metadata": {
        "colab": {
          "base_uri": "https://localhost:8080/"
        },
        "id": "xLCqn_hvvWDI",
        "outputId": "21b97276-9b71-41ce-b21d-936f6d6905f3"
      },
      "source": [
        "word_tokenized = nltk.word_tokenize(sentence)\n",
        "word_tokenized"
      ],
      "execution_count": 10,
      "outputs": [
        {
          "output_type": "execute_result",
          "data": {
            "text/plain": [
              "['Tokenization',\n",
              " ',',\n",
              " 'when',\n",
              " 'applied',\n",
              " 'to',\n",
              " 'data',\n",
              " 'security',\n",
              " ',',\n",
              " 'is',\n",
              " 'the',\n",
              " 'process',\n",
              " 'of',\n",
              " 'substituting',\n",
              " 'a',\n",
              " 'sensitive',\n",
              " 'data',\n",
              " 'element',\n",
              " 'with',\n",
              " 'a',\n",
              " 'non-sensitive',\n",
              " 'equivalent',\n",
              " ',',\n",
              " 'referred',\n",
              " 'to',\n",
              " 'as',\n",
              " 'a',\n",
              " 'token',\n",
              " ',',\n",
              " 'that',\n",
              " 'has',\n",
              " 'no',\n",
              " 'extrinsic',\n",
              " 'or',\n",
              " 'exploitable',\n",
              " 'meaning',\n",
              " 'or',\n",
              " 'value',\n",
              " '.',\n",
              " 'The',\n",
              " 'token',\n",
              " 'is',\n",
              " 'a',\n",
              " 'reference',\n",
              " 'that',\n",
              " 'maps',\n",
              " 'back',\n",
              " 'to',\n",
              " 'the',\n",
              " 'sensitive',\n",
              " 'data',\n",
              " 'through',\n",
              " 'a',\n",
              " 'tokenization',\n",
              " 'system',\n",
              " '.']"
            ]
          },
          "metadata": {
            "tags": []
          },
          "execution_count": 10
        }
      ]
    }
  ]
}