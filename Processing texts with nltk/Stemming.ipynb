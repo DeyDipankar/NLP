{
  "nbformat": 4,
  "nbformat_minor": 0,
  "metadata": {
    "colab": {
      "name": "Stemming.ipynb",
      "provenance": []
    },
    "kernelspec": {
      "name": "python3",
      "display_name": "Python 3"
    },
    "language_info": {
      "name": "python"
    },
    "accelerator": "GPU"
  },
  "cells": [
    {
      "cell_type": "code",
      "metadata": {
        "colab": {
          "base_uri": "https://localhost:8080/"
        },
        "id": "4uxm2vf3zuQM",
        "outputId": "e98f9dda-13ba-48b7-9c84-6aa17de5b197"
      },
      "source": [
        "import nltk\n",
        "nltk.download('stopwords')\n",
        "nltk.download('punkt')\n",
        "from nltk.corpus import stopwords\n",
        "from nltk.stem import PorterStemmer"
      ],
      "execution_count": 23,
      "outputs": [
        {
          "output_type": "stream",
          "text": [
            "[nltk_data] Downloading package stopwords to /root/nltk_data...\n",
            "[nltk_data]   Package stopwords is already up-to-date!\n",
            "[nltk_data] Downloading package punkt to /root/nltk_data...\n",
            "[nltk_data]   Unzipping tokenizers/punkt.zip.\n"
          ],
          "name": "stdout"
        }
      ]
    },
    {
      "cell_type": "code",
      "metadata": {
        "id": "gXNnSxYG0TW5"
      },
      "source": [
        "sentence = '''Tokenization, when applied to data security, is the process of substituting a sensitive data element with a non-sensitive equivalent, referred to as a token, \\\n",
        "that has no extrinsic or exploitable meaning or value. The token is a reference that maps back to the sensitive data through a tokenization system.'''"
      ],
      "execution_count": 9,
      "outputs": []
    },
    {
      "cell_type": "code",
      "metadata": {
        "colab": {
          "base_uri": "https://localhost:8080/"
        },
        "id": "BDHbB6tw0VMQ",
        "outputId": "bcb7defb-99ce-42f5-adf7-57545266616a"
      },
      "source": [
        "stopwords_list = stopwords.words('english')\n",
        "len(stopwords_list)"
      ],
      "execution_count": 14,
      "outputs": [
        {
          "output_type": "execute_result",
          "data": {
            "text/plain": [
              "179"
            ]
          },
          "metadata": {
            "tags": []
          },
          "execution_count": 14
        }
      ]
    },
    {
      "cell_type": "code",
      "metadata": {
        "colab": {
          "base_uri": "https://localhost:8080/"
        },
        "id": "dBspDSMV1ZlL",
        "outputId": "e7328923-5452-4f47-d5aa-e1b9de9ac156"
      },
      "source": [
        "stopwords_list[:3]"
      ],
      "execution_count": 16,
      "outputs": [
        {
          "output_type": "execute_result",
          "data": {
            "text/plain": [
              "['i', 'me', 'my']"
            ]
          },
          "metadata": {
            "tags": []
          },
          "execution_count": 16
        }
      ]
    },
    {
      "cell_type": "code",
      "metadata": {
        "id": "UjjdFtPt2jCk"
      },
      "source": [
        "sentence_tokenized = nltk.sent_tokenize(sentence)\n",
        "stemmer = PorterStemmer()\n",
        "d = {} \n",
        "\n",
        "for i in range(len(sentence_tokenized)):\n",
        "  word_tokenized = nltk.word_tokenize(sentence_tokenized[i])\n",
        "  stem_words = [stemmer.stem(word) for word in word_tokenized if word not in stopwords_list]\n",
        "  key = 'Sentence_' + str(i)\n",
        "  d[key] = stem_words"
      ],
      "execution_count": 31,
      "outputs": []
    },
    {
      "cell_type": "code",
      "metadata": {
        "colab": {
          "base_uri": "https://localhost:8080/"
        },
        "id": "qmMTPcrj6RsI",
        "outputId": "f4148e7d-66ae-40b9-9d31-06ac900dd9dc"
      },
      "source": [
        " print(d)"
      ],
      "execution_count": 32,
      "outputs": [
        {
          "output_type": "stream",
          "text": [
            "{'Sentence_0': ['token', ',', 'appli', 'data', 'secur', ',', 'process', 'substitut', 'sensit', 'data', 'element', 'non-sensit', 'equival', ',', 'refer', 'token', ',', 'extrins', 'exploit', 'mean', 'valu', '.'], 'Sentence_1': ['the', 'token', 'refer', 'map', 'back', 'sensit', 'data', 'token', 'system', '.']}\n"
          ],
          "name": "stdout"
        }
      ]
    },
    {
      "cell_type": "markdown",
      "metadata": {
        "id": "zLilpwrC7VpX"
      },
      "source": [
        "So, from the above dictionary we can see that stemmer stems each token in such a form which may not carry any real word meaning"
      ]
    }
  ]
}