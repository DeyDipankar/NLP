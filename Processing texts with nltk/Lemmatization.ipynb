{
  "nbformat": 4,
  "nbformat_minor": 0,
  "metadata": {
    "colab": {
      "name": "Lemmatization.ipynb",
      "provenance": [],
      "collapsed_sections": []
    },
    "kernelspec": {
      "name": "python3",
      "display_name": "Python 3"
    },
    "language_info": {
      "name": "python"
    },
    "accelerator": "GPU"
  },
  "cells": [
    {
      "cell_type": "code",
      "metadata": {
        "colab": {
          "base_uri": "https://localhost:8080/"
        },
        "id": "4uxm2vf3zuQM",
        "outputId": "1aad7bde-fd7a-41b5-972c-9050fb4e0db5"
      },
      "source": [
        "import nltk\n",
        "nltk.download('stopwords') # for stopwords\n",
        "nltk.download('punkt') # for tokenizer\n",
        "nltk.download('wordnet') # for lemmatizer\n",
        "nltk.download('averaged_perceptron_tagger') # for tagger\n",
        "from nltk.corpus import stopwords\n",
        "from nltk.stem import WordNetLemmatizer"
      ],
      "execution_count": 2,
      "outputs": [
        {
          "output_type": "stream",
          "text": [
            "[nltk_data] Downloading package stopwords to /root/nltk_data...\n",
            "[nltk_data]   Unzipping corpora/stopwords.zip.\n",
            "[nltk_data] Downloading package punkt to /root/nltk_data...\n",
            "[nltk_data]   Unzipping tokenizers/punkt.zip.\n",
            "[nltk_data] Downloading package wordnet to /root/nltk_data...\n",
            "[nltk_data]   Unzipping corpora/wordnet.zip.\n",
            "[nltk_data] Downloading package averaged_perceptron_tagger to\n",
            "[nltk_data]     /root/nltk_data...\n",
            "[nltk_data]   Unzipping taggers/averaged_perceptron_tagger.zip.\n"
          ],
          "name": "stdout"
        }
      ]
    },
    {
      "cell_type": "code",
      "metadata": {
        "id": "gXNnSxYG0TW5"
      },
      "source": [
        "sentence = '''Tokenization, when applied to data security, is the process of substituting a sensitive data element with a non-sensitive equivalent, referred to as a token, \\\n",
        "that has no extrinsic or exploitable meaning or value. The token is a reference that maps back to the sensitive data through a tokenization system.'''"
      ],
      "execution_count": null,
      "outputs": []
    },
    {
      "cell_type": "code",
      "metadata": {
        "colab": {
          "base_uri": "https://localhost:8080/"
        },
        "id": "BDHbB6tw0VMQ",
        "outputId": "6804314d-28a4-4d84-c59a-9270924d13c2"
      },
      "source": [
        "stopwords_list = stopwords.words('english')\n",
        "len(stopwords_list)"
      ],
      "execution_count": null,
      "outputs": [
        {
          "output_type": "execute_result",
          "data": {
            "text/plain": [
              "179"
            ]
          },
          "metadata": {
            "tags": []
          },
          "execution_count": 3
        }
      ]
    },
    {
      "cell_type": "code",
      "metadata": {
        "colab": {
          "base_uri": "https://localhost:8080/"
        },
        "id": "dBspDSMV1ZlL",
        "outputId": "23181254-c06f-42ee-fd7d-742f5c8ba0b0"
      },
      "source": [
        "stopwords_list[:3]"
      ],
      "execution_count": null,
      "outputs": [
        {
          "output_type": "execute_result",
          "data": {
            "text/plain": [
              "['i', 'me', 'my']"
            ]
          },
          "metadata": {
            "tags": []
          },
          "execution_count": 4
        }
      ]
    },
    {
      "cell_type": "code",
      "metadata": {
        "id": "UjjdFtPt2jCk",
        "colab": {
          "base_uri": "https://localhost:8080/"
        },
        "outputId": "45832d2c-16ea-4cfb-8c8d-50e6ece499ca"
      },
      "source": [
        "sentence_tokenized = nltk.sent_tokenize(sentence)\n",
        "lemmatizer = WordNetLemmatizer()\n",
        "d = {} \n",
        "\n",
        "for i in range(len(sentence_tokenized)):\n",
        "  word_tokenized = nltk.word_tokenize(sentence_tokenized[i])\n",
        "  lemmatized_words = [lemmatizer.lemmatize(word,'v') for word in word_tokenized if word not in stopwords_list] # note the use of lemmatize(word,'v')\n",
        "  # if 'v' i.e. to lemmatize verbs only isn't provided, then all the word tokens will be by default considered as a Noun\n",
        "  key = 'Sentence_' + str(i)\n",
        "  d[key] = lemmatized_words\n",
        "print(d)"
      ],
      "execution_count": null,
      "outputs": [
        {
          "output_type": "stream",
          "text": [
            "{'Sentence_0': ['Tokenization', ',', 'apply', 'data', 'security', ',', 'process', 'substitute', 'sensitive', 'data', 'element', 'non-sensitive', 'equivalent', ',', 'refer', 'token', ',', 'extrinsic', 'exploitable', 'mean', 'value', '.'], 'Sentence_1': ['The', 'token', 'reference', 'map', 'back', 'sensitive', 'data', 'tokenization', 'system', '.']}\n"
          ],
          "name": "stdout"
        }
      ]
    },
    {
      "cell_type": "markdown",
      "metadata": {
        "id": "zLilpwrC7VpX"
      },
      "source": [
        "We see that the problem that arised due to stemming was addressed in a sense that now when we apply lemmatizer instead of stemmer, we get meaningful words.\n",
        "\n",
        "One thing to note here, if we don't mention a specific 'pos' such as a verb/adverb etc. to lemmatize then by default the lemmatizer lemmatize all the words assuming to be noun. More info - \n",
        "\n",
        ">https://stackoverflow.com/questions/25534214/nltk-wordnet-lemmatizer-shouldnt-it-lemmatize-all-inflections-of-a-word\n",
        "\n",
        ">https://www.machinelearningplus.com/nlp/lemmatization-examples-python/"
      ]
    }
  ]
}