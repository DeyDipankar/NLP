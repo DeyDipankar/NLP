{
  "nbformat": 4,
  "nbformat_minor": 0,
  "metadata": {
    "colab": {
      "name": "GloVe.ipynb",
      "provenance": []
    },
    "kernelspec": {
      "name": "python3",
      "display_name": "Python 3"
    },
    "language_info": {
      "name": "python"
    }
  },
  "cells": [
    {
      "cell_type": "code",
      "metadata": {
        "colab": {
          "base_uri": "https://localhost:8080/",
          "height": 266
        },
        "id": "UJK5mzuKZSA9",
        "outputId": "e49d3057-855a-4079-c187-652b1c02bfbb"
      },
      "source": [
        "import pandas as pd\n",
        "from collections import defaultdict\n",
        "\n",
        "def co_occurrence(sentences, window_size):\n",
        "    d = defaultdict(int)\n",
        "    vocab = set()\n",
        "    for text in sentences:\n",
        "        # preprocessing (use tokenizer instead)\n",
        "        text = text.lower().split()\n",
        "        # iterate over sentences\n",
        "        for i in range(len(text)):\n",
        "            token = text[i]\n",
        "            vocab.add(token)  # add to vocab\n",
        "            next_token = text[i+1 : i+1+window_size]\n",
        "            for t in next_token:\n",
        "                key = tuple( sorted([t, token]) )\n",
        "                d[key] += 1\n",
        "    \n",
        "    # formulate the dictionary into dataframe\n",
        "    vocab = sorted(vocab) # sort vocab\n",
        "    df = pd.DataFrame(data=np.zeros((len(vocab), len(vocab)), dtype=np.int16),\n",
        "                      index=vocab,\n",
        "                      columns=vocab)\n",
        "    for key, value in d.items():\n",
        "        df.at[key[0], key[1]] = value\n",
        "        df.at[key[1], key[0]] = value\n",
        "    return df\n",
        "\n",
        "\n",
        "\n",
        "\n",
        "\n",
        "sentences = ['I like Deep Learning',\n",
        "             'I like NLP',\n",
        "             #'Deep Learning I love'\n",
        "             'I enjoy flying']\n",
        "              \n",
        "window_sz = 2\n",
        "\n",
        "co_occur_df = co_occurrence(sentences,window_sz)\n",
        "co_occur_df"
      ],
      "execution_count": 58,
      "outputs": [
        {
          "output_type": "execute_result",
          "data": {
            "text/html": [
              "<div>\n",
              "<style scoped>\n",
              "    .dataframe tbody tr th:only-of-type {\n",
              "        vertical-align: middle;\n",
              "    }\n",
              "\n",
              "    .dataframe tbody tr th {\n",
              "        vertical-align: top;\n",
              "    }\n",
              "\n",
              "    .dataframe thead th {\n",
              "        text-align: right;\n",
              "    }\n",
              "</style>\n",
              "<table border=\"1\" class=\"dataframe\">\n",
              "  <thead>\n",
              "    <tr style=\"text-align: right;\">\n",
              "      <th></th>\n",
              "      <th>deep</th>\n",
              "      <th>enjoy</th>\n",
              "      <th>flying</th>\n",
              "      <th>i</th>\n",
              "      <th>learning</th>\n",
              "      <th>like</th>\n",
              "      <th>nlp</th>\n",
              "    </tr>\n",
              "  </thead>\n",
              "  <tbody>\n",
              "    <tr>\n",
              "      <th>deep</th>\n",
              "      <td>0</td>\n",
              "      <td>0</td>\n",
              "      <td>0</td>\n",
              "      <td>1</td>\n",
              "      <td>1</td>\n",
              "      <td>1</td>\n",
              "      <td>0</td>\n",
              "    </tr>\n",
              "    <tr>\n",
              "      <th>enjoy</th>\n",
              "      <td>0</td>\n",
              "      <td>0</td>\n",
              "      <td>1</td>\n",
              "      <td>1</td>\n",
              "      <td>0</td>\n",
              "      <td>0</td>\n",
              "      <td>0</td>\n",
              "    </tr>\n",
              "    <tr>\n",
              "      <th>flying</th>\n",
              "      <td>0</td>\n",
              "      <td>1</td>\n",
              "      <td>0</td>\n",
              "      <td>1</td>\n",
              "      <td>0</td>\n",
              "      <td>0</td>\n",
              "      <td>0</td>\n",
              "    </tr>\n",
              "    <tr>\n",
              "      <th>i</th>\n",
              "      <td>1</td>\n",
              "      <td>1</td>\n",
              "      <td>1</td>\n",
              "      <td>0</td>\n",
              "      <td>0</td>\n",
              "      <td>2</td>\n",
              "      <td>1</td>\n",
              "    </tr>\n",
              "    <tr>\n",
              "      <th>learning</th>\n",
              "      <td>1</td>\n",
              "      <td>0</td>\n",
              "      <td>0</td>\n",
              "      <td>0</td>\n",
              "      <td>0</td>\n",
              "      <td>1</td>\n",
              "      <td>0</td>\n",
              "    </tr>\n",
              "    <tr>\n",
              "      <th>like</th>\n",
              "      <td>1</td>\n",
              "      <td>0</td>\n",
              "      <td>0</td>\n",
              "      <td>2</td>\n",
              "      <td>1</td>\n",
              "      <td>0</td>\n",
              "      <td>1</td>\n",
              "    </tr>\n",
              "    <tr>\n",
              "      <th>nlp</th>\n",
              "      <td>0</td>\n",
              "      <td>0</td>\n",
              "      <td>0</td>\n",
              "      <td>1</td>\n",
              "      <td>0</td>\n",
              "      <td>1</td>\n",
              "      <td>0</td>\n",
              "    </tr>\n",
              "  </tbody>\n",
              "</table>\n",
              "</div>"
            ],
            "text/plain": [
              "          deep  enjoy  flying  i  learning  like  nlp\n",
              "deep         0      0       0  1         1     1    0\n",
              "enjoy        0      0       1  1         0     0    0\n",
              "flying       0      1       0  1         0     0    0\n",
              "i            1      1       1  0         0     2    1\n",
              "learning     1      0       0  0         0     1    0\n",
              "like         1      0       0  2         1     0    1\n",
              "nlp          0      0       0  1         0     1    0"
            ]
          },
          "metadata": {
            "tags": []
          },
          "execution_count": 58
        }
      ]
    },
    {
      "cell_type": "code",
      "metadata": {
        "colab": {
          "base_uri": "https://localhost:8080/"
        },
        "id": "nxHNskmbalOt",
        "outputId": "fd1c9be4-f49c-4a34-fdb7-a56b0501ef88"
      },
      "source": [
        "co_occur_values = co_occur_df.values\n",
        "co_occur_values"
      ],
      "execution_count": 59,
      "outputs": [
        {
          "output_type": "execute_result",
          "data": {
            "text/plain": [
              "array([[0, 0, 0, 1, 1, 1, 0],\n",
              "       [0, 0, 1, 1, 0, 0, 0],\n",
              "       [0, 1, 0, 1, 0, 0, 0],\n",
              "       [1, 1, 1, 0, 0, 2, 1],\n",
              "       [1, 0, 0, 0, 0, 1, 0],\n",
              "       [1, 0, 0, 2, 1, 0, 1],\n",
              "       [0, 0, 0, 1, 0, 1, 0]], dtype=int16)"
            ]
          },
          "metadata": {
            "tags": []
          },
          "execution_count": 59
        }
      ]
    },
    {
      "cell_type": "code",
      "metadata": {
        "colab": {
          "base_uri": "https://localhost:8080/"
        },
        "id": "MnMwCmILeSBj",
        "outputId": "91ec7019-de85-48f0-f1c5-527f64e4828b"
      },
      "source": [
        "import numpy as np\n",
        "\n",
        "la = np.linalg\n",
        "U,s,Vh = la.svd(co_occur_values, full_matrices = False)\n",
        "print('Co-occurance matrix shape:', co_occur_values.shape)\n",
        "print('U','\\n',U.shape)\n",
        "print('s','\\n',s.shape)\n",
        "print('Vh','\\n',Vh.shape)"
      ],
      "execution_count": 62,
      "outputs": [
        {
          "output_type": "stream",
          "text": [
            "Co-occurance matrix shape: (7, 7)\n",
            "U \n",
            " (7, 7)\n",
            "s \n",
            " (7,)\n",
            "Vh \n",
            " (7, 7)\n"
          ],
          "name": "stdout"
        }
      ]
    },
    {
      "cell_type": "code",
      "metadata": {
        "colab": {
          "base_uri": "https://localhost:8080/",
          "height": 378
        },
        "id": "BY_OXP80fMOh",
        "outputId": "9309d674-1e0c-47ce-8267-ca0b4fa68591"
      },
      "source": [
        "import matplotlib.pyplot as plt\n",
        "plt.figure(figsize=(10,6))\n",
        "for i in range(len(co_occur_df.columns)):\n",
        "  plt.text(U[i,0], U[i,1], co_occur_df.index[i])\n",
        "  plt.xlim(U[0].min(),1)  #plt.ylim(U[0].min(), U[0].max())\n",
        "  plt.ylim(U[1].min(),1)  #plt.xlim(U[1].min(), U[1].max())"
      ],
      "execution_count": 63,
      "outputs": [
        {
          "output_type": "display_data",
          "data": {
            "image/png": "[encoded data removed]",
            "text/plain": [
              "<Figure size 720x432 with 1 Axes>"
            ]
          },
          "metadata": {
            "tags": [],
            "needs_background": "light"
          }
        }
      ]
    },
    {
      "cell_type": "code",
      "metadata": {
        "colab": {
          "base_uri": "https://localhost:8080/",
          "height": 376
        },
        "id": "_2dWOwsLg_km",
        "outputId": "8fb33e26-4fde-441c-91a8-5573d8e5d6ee"
      },
      "source": [
        "plt.figure(figsize=(10,6))\n",
        "for i in range(len(co_occur_df.columns)):\n",
        "  plt.text(Vh[i,0], Vh[i,1], co_occur_df.columns[i])\n",
        "  plt.xlim(Vh[0].min(), Vh[0].max())\n",
        "  plt.ylim(Vh[1].min(), Vh[1].max())"
      ],
      "execution_count": 51,
      "outputs": [
        {
          "output_type": "display_data",
          "data": {
            "image/png": "[encoded data removed]",
            "text/plain": [
              "<Figure size 720x432 with 1 Axes>"
            ]
          },
          "metadata": {
            "tags": [],
            "needs_background": "light"
          }
        }
      ]
    }
  ]
}