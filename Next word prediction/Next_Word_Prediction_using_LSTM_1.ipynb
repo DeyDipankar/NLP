{
  "nbformat": 4,
  "nbformat_minor": 0,
  "metadata": {
    "colab": {
      "name": "Next Word Prediction using LSTM_1.ipynb",
      "provenance": [],
      "collapsed_sections": []
    },
    "kernelspec": {
      "name": "python3",
      "display_name": "Python 3"
    },
    "language_info": {
      "name": "python"
    },
    "accelerator": "TPU"
  },
  "cells": [
    {
      "cell_type": "code",
      "metadata": {
        "colab": {
          "base_uri": "https://localhost:8080/"
        },
        "id": "NXpryUR9B4fz",
        "outputId": "8efab711-b2a8-4b77-f763-e48686a9e1a8"
      },
      "source": [
        "from keras.preprocessing.text import Tokenizer\n",
        "import nltk\n",
        "from nltk.tokenize import word_tokenize\n",
        "nltk.download('punkt')\n",
        "import numpy as np\n",
        "import re\n",
        "from tensorflow.keras.utils import to_categorical\n",
        "from sklearn.preprocessing import OneHotEncoder\n",
        "import numpy as np"
      ],
      "execution_count": 1,
      "outputs": [
        {
          "output_type": "stream",
          "text": [
            "[nltk_data] Downloading package punkt to /root/nltk_data...\n",
            "[nltk_data]   Unzipping tokenizers/punkt.zip.\n"
          ],
          "name": "stdout"
        }
      ]
    },
    {
      "cell_type": "code",
      "metadata": {
        "id": "DD4JwPINGdmO"
      },
      "source": [
        "training_doc3 = \"How are you? How many days since we last met? How are your parents?\""
      ],
      "execution_count": 72,
      "outputs": []
    },
    {
      "cell_type": "markdown",
      "metadata": {
        "id": "MpVP3-OYYPE8"
      },
      "source": [
        "## Text Preprocessing"
      ]
    },
    {
      "cell_type": "code",
      "metadata": {
        "colab": {
          "base_uri": "https://localhost:8080/"
        },
        "id": "jRFMoML1FcR6",
        "outputId": "e0196f47-b354-4156-f037-bb26b12f75bf"
      },
      "source": [
        "cleaned = re.sub(r'\\W+', ' ', training_doc3).lower()\n",
        "tokens = word_tokenize(cleaned)\n",
        "print(len(tokens))\n",
        "#print(tokens)\n",
        "# Next we'll create sequences taking 4 cosequtive tokens at a time\n",
        "train_len = 4\n",
        "text_sequences = []\n",
        "pos = 0\n",
        "items = train_len\n",
        "for i in range(train_len,len(tokens)+1):\n",
        "  text_sequences.append(tokens[pos:items])\n",
        "  pos+=1\n",
        "  items+=1\n",
        "print(text_sequences)"
      ],
      "execution_count": 73,
      "outputs": [
        {
          "output_type": "stream",
          "text": [
            "14\n",
            "[['how', 'are', 'you', 'how'], ['are', 'you', 'how', 'many'], ['you', 'how', 'many', 'days'], ['how', 'many', 'days', 'since'], ['many', 'days', 'since', 'we'], ['days', 'since', 'we', 'last'], ['since', 'we', 'last', 'met'], ['we', 'last', 'met', 'how'], ['last', 'met', 'how', 'are'], ['met', 'how', 'are', 'your'], ['how', 'are', 'your', 'parents']]\n"
          ],
          "name": "stdout"
        }
      ]
    },
    {
      "cell_type": "code",
      "metadata": {
        "colab": {
          "base_uri": "https://localhost:8080/"
        },
        "id": "CJBGzIa_GwWi",
        "outputId": "e9de55ab-9493-472e-d354-001f224b2c44"
      },
      "source": [
        "# let's create sequences with the obtained integer values for each unique token\n",
        "tokenizer = Tokenizer()\n",
        "tokenizer.fit_on_texts(text_sequences)\n",
        "sequences = tokenizer.texts_to_sequences(text_sequences)\n",
        "print(sequences)\n",
        "print(tokenizer.word_index) # to check how the unique tokens have been mapped in our sequences"
      ],
      "execution_count": 75,
      "outputs": [
        {
          "output_type": "stream",
          "text": [
            "[[1, 2, 9, 1], [2, 9, 1, 3], [9, 1, 3, 4], [1, 3, 4, 5], [3, 4, 5, 6], [4, 5, 6, 7], [5, 6, 7, 8], [6, 7, 8, 1], [7, 8, 1, 2], [8, 1, 2, 10], [1, 2, 10, 11]]\n",
            "{'how': 1, 'are': 2, 'many': 3, 'days': 4, 'since': 5, 'we': 6, 'last': 7, 'met': 8, 'you': 9, 'your': 10, 'parents': 11}\n"
          ],
          "name": "stdout"
        }
      ]
    },
    {
      "cell_type": "code",
      "metadata": {
        "colab": {
          "base_uri": "https://localhost:8080/"
        },
        "id": "djTk--mKSrPt",
        "outputId": "41c15926-e767-436d-fe28-a7ca6c8a1876"
      },
      "source": [
        "target = []\n",
        "sequence_list = []\n",
        "for i in sequences:\n",
        "  #print(i)\n",
        "  sequence_list.append(i[:-1])\n",
        "  target.append(i[-1])\n",
        "  \n",
        "print(sequences)\n",
        "print(sequence_list,target)"
      ],
      "execution_count": 76,
      "outputs": [
        {
          "output_type": "stream",
          "text": [
            "[[1, 2, 9, 1], [2, 9, 1, 3], [9, 1, 3, 4], [1, 3, 4, 5], [3, 4, 5, 6], [4, 5, 6, 7], [5, 6, 7, 8], [6, 7, 8, 1], [7, 8, 1, 2], [8, 1, 2, 10], [1, 2, 10, 11]]\n",
            "[[1, 2, 9], [2, 9, 1], [9, 1, 3], [1, 3, 4], [3, 4, 5], [4, 5, 6], [5, 6, 7], [6, 7, 8], [7, 8, 1], [8, 1, 2], [1, 2, 10]] [1, 3, 4, 5, 6, 7, 8, 1, 2, 10, 11]\n"
          ],
          "name": "stdout"
        }
      ]
    },
    {
      "cell_type": "markdown",
      "metadata": {
        "id": "hHYIbdyRYJBJ"
      },
      "source": [
        "## Crate Training inputs & Training labels"
      ]
    },
    {
      "cell_type": "code",
      "metadata": {
        "colab": {
          "base_uri": "https://localhost:8080/"
        },
        "id": "S-6MziiNM6HE",
        "outputId": "13a120ee-3d3a-4b12-9ed8-b5fa20910627"
      },
      "source": [
        "ohe = OneHotEncoder(sparse = False)\n",
        "targets = np.array(target).reshape(-1,1)\n",
        "targets = ohe.fit_transform(targets)\n",
        "train_targets = np.concatenate((np.zeros((targets.shape[0],1)),targets),axis = 1) # adding a zero to match target\n",
        "print(train_targets)"
      ],
      "execution_count": 77,
      "outputs": [
        {
          "output_type": "stream",
          "text": [
            "[[0. 1. 0. 0. 0. 0. 0. 0. 0. 0. 0.]\n",
            " [0. 0. 0. 1. 0. 0. 0. 0. 0. 0. 0.]\n",
            " [0. 0. 0. 0. 1. 0. 0. 0. 0. 0. 0.]\n",
            " [0. 0. 0. 0. 0. 1. 0. 0. 0. 0. 0.]\n",
            " [0. 0. 0. 0. 0. 0. 1. 0. 0. 0. 0.]\n",
            " [0. 0. 0. 0. 0. 0. 0. 1. 0. 0. 0.]\n",
            " [0. 0. 0. 0. 0. 0. 0. 0. 1. 0. 0.]\n",
            " [0. 1. 0. 0. 0. 0. 0. 0. 0. 0. 0.]\n",
            " [0. 0. 1. 0. 0. 0. 0. 0. 0. 0. 0.]\n",
            " [0. 0. 0. 0. 0. 0. 0. 0. 0. 1. 0.]\n",
            " [0. 0. 0. 0. 0. 0. 0. 0. 0. 0. 1.]]\n"
          ],
          "name": "stdout"
        }
      ]
    },
    {
      "cell_type": "code",
      "metadata": {
        "colab": {
          "base_uri": "https://localhost:8080/"
        },
        "id": "P0_Tif8qHKYa",
        "outputId": "b7203cbd-e2f0-4577-b9ed-bf8cbcdb0bcb"
      },
      "source": [
        "train_inputs = np.array(sequence_list)\n",
        "print(train_inputs)"
      ],
      "execution_count": 78,
      "outputs": [
        {
          "output_type": "stream",
          "text": [
            "[[ 1  2  9]\n",
            " [ 2  9  1]\n",
            " [ 9  1  3]\n",
            " [ 1  3  4]\n",
            " [ 3  4  5]\n",
            " [ 4  5  6]\n",
            " [ 5  6  7]\n",
            " [ 6  7  8]\n",
            " [ 7  8  1]\n",
            " [ 8  1  2]\n",
            " [ 1  2 10]]\n"
          ],
          "name": "stdout"
        }
      ]
    },
    {
      "cell_type": "markdown",
      "metadata": {
        "id": "FS7yNgupX2NC"
      },
      "source": [
        "## Build & Train the Model"
      ]
    },
    {
      "cell_type": "code",
      "metadata": {
        "colab": {
          "base_uri": "https://localhost:8080/"
        },
        "id": "b2-zFf44Qsa6",
        "outputId": "3f0e4696-b59a-4dee-e998-de9987066c55"
      },
      "source": [
        "from tensorflow.keras.models import Sequential\n",
        "from tensorflow.keras.layers import Embedding,LSTM,Dense\n",
        "\n",
        "vocabulary_size = len(tokenizer.word_index)\n",
        "embedding_dim = 6 #train_inputs.shape[0]\n",
        "max_length = train_inputs.shape[1]\n",
        "\n",
        "\n",
        "\n",
        "model = Sequential()\n",
        "model.add(Embedding(input_dim = vocabulary_size, output_dim = embedding_dim, input_length = max_length))\n",
        "model.add(LSTM(50,return_sequences=True))\n",
        "model.add(LSTM(50))\n",
        "model.add(Dense(50,activation='relu'))\n",
        "model.add(Dense(vocabulary_size, activation='softmax'))\n",
        "# compiling the network\n",
        "model.compile(loss='categorical_crossentropy', optimizer='adam', metrics=['accuracy'])\n",
        "model.summary()\n",
        "history = model.fit(train_inputs,train_targets,epochs=120,verbose=1)"
      ],
      "execution_count": 94,
      "outputs": [
        {
          "output_type": "stream",
          "text": [
            "Model: \"sequential_17\"\n",
            "_________________________________________________________________\n",
            "Layer (type)                 Output Shape              Param #   \n",
            "=================================================================\n",
            "embedding_17 (Embedding)     (None, 3, 6)              66        \n",
            "_________________________________________________________________\n",
            "lstm_34 (LSTM)               (None, 3, 50)             11400     \n",
            "_________________________________________________________________\n",
            "lstm_35 (LSTM)               (None, 50)                20200     \n",
            "_________________________________________________________________\n",
            "dense_34 (Dense)             (None, 50)                2550      \n",
            "_________________________________________________________________\n",
            "dense_35 (Dense)             (None, 11)                561       \n",
            "=================================================================\n",
            "Total params: 34,777\n",
            "Trainable params: 34,777\n",
            "Non-trainable params: 0\n",
            "_________________________________________________________________\n",
            "Epoch 1/120\n",
            "1/1 [==============================] - 4s 4s/step - loss: 2.3979 - accuracy: 0.0000e+00\n",
            "Epoch 2/120\n",
            "1/1 [==============================] - 0s 9ms/step - loss: 2.3970 - accuracy: 0.0909\n",
            "Epoch 3/120\n",
            "1/1 [==============================] - 0s 11ms/step - loss: 2.3962 - accuracy: 0.1818\n",
            "Epoch 4/120\n",
            "1/1 [==============================] - 0s 15ms/step - loss: 2.3953 - accuracy: 0.1818\n",
            "Epoch 5/120\n",
            "1/1 [==============================] - 0s 16ms/step - loss: 2.3945 - accuracy: 0.1818\n",
            "Epoch 6/120\n",
            "1/1 [==============================] - 0s 11ms/step - loss: 2.3936 - accuracy: 0.1818\n",
            "Epoch 7/120\n",
            "1/1 [==============================] - 0s 12ms/step - loss: 2.3926 - accuracy: 0.1818\n",
            "Epoch 8/120\n",
            "1/1 [==============================] - 0s 13ms/step - loss: 2.3916 - accuracy: 0.1818\n",
            "Epoch 9/120\n",
            "1/1 [==============================] - 0s 11ms/step - loss: 2.3905 - accuracy: 0.1818\n",
            "Epoch 10/120\n",
            "1/1 [==============================] - 0s 9ms/step - loss: 2.3894 - accuracy: 0.1818\n",
            "Epoch 11/120\n",
            "1/1 [==============================] - 0s 11ms/step - loss: 2.3881 - accuracy: 0.1818\n",
            "Epoch 12/120\n",
            "1/1 [==============================] - 0s 11ms/step - loss: 2.3869 - accuracy: 0.1818\n",
            "Epoch 13/120\n",
            "1/1 [==============================] - 0s 13ms/step - loss: 2.3856 - accuracy: 0.1818\n",
            "Epoch 14/120\n",
            "1/1 [==============================] - 0s 13ms/step - loss: 2.3842 - accuracy: 0.1818\n",
            "Epoch 15/120\n",
            "1/1 [==============================] - 0s 16ms/step - loss: 2.3828 - accuracy: 0.1818\n",
            "Epoch 16/120\n",
            "1/1 [==============================] - 0s 15ms/step - loss: 2.3812 - accuracy: 0.1818\n",
            "Epoch 17/120\n",
            "1/1 [==============================] - 0s 15ms/step - loss: 2.3796 - accuracy: 0.1818\n",
            "Epoch 18/120\n",
            "1/1 [==============================] - 0s 15ms/step - loss: 2.3778 - accuracy: 0.1818\n",
            "Epoch 19/120\n",
            "1/1 [==============================] - 0s 15ms/step - loss: 2.3759 - accuracy: 0.1818\n",
            "Epoch 20/120\n",
            "1/1 [==============================] - 0s 15ms/step - loss: 2.3739 - accuracy: 0.1818\n",
            "Epoch 21/120\n",
            "1/1 [==============================] - 0s 11ms/step - loss: 2.3718 - accuracy: 0.1818\n",
            "Epoch 22/120\n",
            "1/1 [==============================] - 0s 10ms/step - loss: 2.3694 - accuracy: 0.1818\n",
            "Epoch 23/120\n",
            "1/1 [==============================] - 0s 13ms/step - loss: 2.3669 - accuracy: 0.1818\n",
            "Epoch 24/120\n",
            "1/1 [==============================] - 0s 8ms/step - loss: 2.3642 - accuracy: 0.1818\n",
            "Epoch 25/120\n",
            "1/1 [==============================] - 0s 12ms/step - loss: 2.3612 - accuracy: 0.1818\n",
            "Epoch 26/120\n",
            "1/1 [==============================] - 0s 10ms/step - loss: 2.3581 - accuracy: 0.1818\n",
            "Epoch 27/120\n",
            "1/1 [==============================] - 0s 9ms/step - loss: 2.3547 - accuracy: 0.1818\n",
            "Epoch 28/120\n",
            "1/1 [==============================] - 0s 10ms/step - loss: 2.3511 - accuracy: 0.1818\n",
            "Epoch 29/120\n",
            "1/1 [==============================] - 0s 11ms/step - loss: 2.3473 - accuracy: 0.1818\n",
            "Epoch 30/120\n",
            "1/1 [==============================] - 0s 10ms/step - loss: 2.3431 - accuracy: 0.1818\n",
            "Epoch 31/120\n",
            "1/1 [==============================] - 0s 10ms/step - loss: 2.3387 - accuracy: 0.1818\n",
            "Epoch 32/120\n",
            "1/1 [==============================] - 0s 25ms/step - loss: 2.3339 - accuracy: 0.1818\n",
            "Epoch 33/120\n",
            "1/1 [==============================] - 0s 9ms/step - loss: 2.3288 - accuracy: 0.1818\n",
            "Epoch 34/120\n",
            "1/1 [==============================] - 0s 9ms/step - loss: 2.3234 - accuracy: 0.1818\n",
            "Epoch 35/120\n",
            "1/1 [==============================] - 0s 10ms/step - loss: 2.3175 - accuracy: 0.1818\n",
            "Epoch 36/120\n",
            "1/1 [==============================] - 0s 11ms/step - loss: 2.3113 - accuracy: 0.1818\n",
            "Epoch 37/120\n",
            "1/1 [==============================] - 0s 10ms/step - loss: 2.3047 - accuracy: 0.1818\n",
            "Epoch 38/120\n",
            "1/1 [==============================] - 0s 10ms/step - loss: 2.2976 - accuracy: 0.1818\n",
            "Epoch 39/120\n",
            "1/1 [==============================] - 0s 13ms/step - loss: 2.2901 - accuracy: 0.1818\n",
            "Epoch 40/120\n",
            "1/1 [==============================] - 0s 17ms/step - loss: 2.2821 - accuracy: 0.1818\n",
            "Epoch 41/120\n",
            "1/1 [==============================] - 0s 13ms/step - loss: 2.2737 - accuracy: 0.1818\n",
            "Epoch 42/120\n",
            "1/1 [==============================] - 0s 14ms/step - loss: 2.2649 - accuracy: 0.1818\n",
            "Epoch 43/120\n",
            "1/1 [==============================] - 0s 12ms/step - loss: 2.2556 - accuracy: 0.1818\n",
            "Epoch 44/120\n",
            "1/1 [==============================] - 0s 12ms/step - loss: 2.2458 - accuracy: 0.1818\n",
            "Epoch 45/120\n",
            "1/1 [==============================] - 0s 12ms/step - loss: 2.2355 - accuracy: 0.1818\n",
            "Epoch 46/120\n",
            "1/1 [==============================] - 0s 14ms/step - loss: 2.2246 - accuracy: 0.1818\n",
            "Epoch 47/120\n",
            "1/1 [==============================] - 0s 12ms/step - loss: 2.2131 - accuracy: 0.1818\n",
            "Epoch 48/120\n",
            "1/1 [==============================] - 0s 15ms/step - loss: 2.2009 - accuracy: 0.1818\n",
            "Epoch 49/120\n",
            "1/1 [==============================] - 0s 15ms/step - loss: 2.1877 - accuracy: 0.1818\n",
            "Epoch 50/120\n",
            "1/1 [==============================] - 0s 17ms/step - loss: 2.1735 - accuracy: 0.1818\n",
            "Epoch 51/120\n",
            "1/1 [==============================] - 0s 17ms/step - loss: 2.1581 - accuracy: 0.1818\n",
            "Epoch 52/120\n",
            "1/1 [==============================] - 0s 14ms/step - loss: 2.1413 - accuracy: 0.1818\n",
            "Epoch 53/120\n",
            "1/1 [==============================] - 0s 14ms/step - loss: 2.1229 - accuracy: 0.1818\n",
            "Epoch 54/120\n",
            "1/1 [==============================] - 0s 17ms/step - loss: 2.1028 - accuracy: 0.1818\n",
            "Epoch 55/120\n",
            "1/1 [==============================] - 0s 19ms/step - loss: 2.0813 - accuracy: 0.1818\n",
            "Epoch 56/120\n",
            "1/1 [==============================] - 0s 16ms/step - loss: 2.0585 - accuracy: 0.2727\n",
            "Epoch 57/120\n",
            "1/1 [==============================] - 0s 17ms/step - loss: 2.0335 - accuracy: 0.2727\n",
            "Epoch 58/120\n",
            "1/1 [==============================] - 0s 11ms/step - loss: 2.0066 - accuracy: 0.2727\n",
            "Epoch 59/120\n",
            "1/1 [==============================] - 0s 20ms/step - loss: 1.9779 - accuracy: 0.2727\n",
            "Epoch 60/120\n",
            "1/1 [==============================] - 0s 19ms/step - loss: 1.9471 - accuracy: 0.2727\n",
            "Epoch 61/120\n",
            "1/1 [==============================] - 0s 14ms/step - loss: 1.9147 - accuracy: 0.3636\n",
            "Epoch 62/120\n",
            "1/1 [==============================] - 0s 16ms/step - loss: 1.8810 - accuracy: 0.3636\n",
            "Epoch 63/120\n",
            "1/1 [==============================] - 0s 15ms/step - loss: 1.8454 - accuracy: 0.3636\n",
            "Epoch 64/120\n",
            "1/1 [==============================] - 0s 14ms/step - loss: 1.8087 - accuracy: 0.3636\n",
            "Epoch 65/120\n",
            "1/1 [==============================] - 0s 16ms/step - loss: 1.7711 - accuracy: 0.2727\n",
            "Epoch 66/120\n",
            "1/1 [==============================] - 0s 18ms/step - loss: 1.7321 - accuracy: 0.2727\n",
            "Epoch 67/120\n",
            "1/1 [==============================] - 0s 22ms/step - loss: 1.6923 - accuracy: 0.3636\n",
            "Epoch 68/120\n",
            "1/1 [==============================] - 0s 15ms/step - loss: 1.6536 - accuracy: 0.3636\n",
            "Epoch 69/120\n",
            "1/1 [==============================] - 0s 14ms/step - loss: 1.6143 - accuracy: 0.3636\n",
            "Epoch 70/120\n",
            "1/1 [==============================] - 0s 12ms/step - loss: 1.5745 - accuracy: 0.3636\n",
            "Epoch 71/120\n",
            "1/1 [==============================] - 0s 12ms/step - loss: 1.5347 - accuracy: 0.4545\n",
            "Epoch 72/120\n",
            "1/1 [==============================] - 0s 10ms/step - loss: 1.4952 - accuracy: 0.4545\n",
            "Epoch 73/120\n",
            "1/1 [==============================] - 0s 12ms/step - loss: 1.4557 - accuracy: 0.4545\n",
            "Epoch 74/120\n",
            "1/1 [==============================] - 0s 17ms/step - loss: 1.4155 - accuracy: 0.4545\n",
            "Epoch 75/120\n",
            "1/1 [==============================] - 0s 13ms/step - loss: 1.3746 - accuracy: 0.4545\n",
            "Epoch 76/120\n",
            "1/1 [==============================] - 0s 17ms/step - loss: 1.3335 - accuracy: 0.4545\n",
            "Epoch 77/120\n",
            "1/1 [==============================] - 0s 19ms/step - loss: 1.2923 - accuracy: 0.4545\n",
            "Epoch 78/120\n",
            "1/1 [==============================] - 0s 14ms/step - loss: 1.2518 - accuracy: 0.3636\n",
            "Epoch 79/120\n",
            "1/1 [==============================] - 0s 19ms/step - loss: 1.2124 - accuracy: 0.4545\n",
            "Epoch 80/120\n",
            "1/1 [==============================] - 0s 16ms/step - loss: 1.1740 - accuracy: 0.5455\n",
            "Epoch 81/120\n",
            "1/1 [==============================] - 0s 16ms/step - loss: 1.1362 - accuracy: 0.5455\n",
            "Epoch 82/120\n",
            "1/1 [==============================] - 0s 15ms/step - loss: 1.0999 - accuracy: 0.5455\n",
            "Epoch 83/120\n",
            "1/1 [==============================] - 0s 19ms/step - loss: 1.0662 - accuracy: 0.5455\n",
            "Epoch 84/120\n",
            "1/1 [==============================] - 0s 15ms/step - loss: 1.0336 - accuracy: 0.5455\n",
            "Epoch 85/120\n",
            "1/1 [==============================] - 0s 15ms/step - loss: 1.0017 - accuracy: 0.5455\n",
            "Epoch 86/120\n",
            "1/1 [==============================] - 0s 15ms/step - loss: 0.9705 - accuracy: 0.5455\n",
            "Epoch 87/120\n",
            "1/1 [==============================] - 0s 14ms/step - loss: 0.9394 - accuracy: 0.5455\n",
            "Epoch 88/120\n",
            "1/1 [==============================] - 0s 12ms/step - loss: 0.9091 - accuracy: 0.5455\n",
            "Epoch 89/120\n",
            "1/1 [==============================] - 0s 16ms/step - loss: 0.8808 - accuracy: 0.6364\n",
            "Epoch 90/120\n",
            "1/1 [==============================] - 0s 14ms/step - loss: 0.8541 - accuracy: 0.7273\n",
            "Epoch 91/120\n",
            "1/1 [==============================] - 0s 13ms/step - loss: 0.8283 - accuracy: 0.7273\n",
            "Epoch 92/120\n",
            "1/1 [==============================] - 0s 19ms/step - loss: 0.8049 - accuracy: 0.8182\n",
            "Epoch 93/120\n",
            "1/1 [==============================] - 0s 15ms/step - loss: 0.7820 - accuracy: 0.8182\n",
            "Epoch 94/120\n",
            "1/1 [==============================] - 0s 15ms/step - loss: 0.7588 - accuracy: 0.8182\n",
            "Epoch 95/120\n",
            "1/1 [==============================] - 0s 20ms/step - loss: 0.7365 - accuracy: 0.8182\n",
            "Epoch 96/120\n",
            "1/1 [==============================] - 0s 16ms/step - loss: 0.7151 - accuracy: 0.8182\n",
            "Epoch 97/120\n",
            "1/1 [==============================] - 0s 12ms/step - loss: 0.6930 - accuracy: 0.8182\n",
            "Epoch 98/120\n",
            "1/1 [==============================] - 0s 14ms/step - loss: 0.6707 - accuracy: 0.8182\n",
            "Epoch 99/120\n",
            "1/1 [==============================] - 0s 16ms/step - loss: 0.6494 - accuracy: 0.8182\n",
            "Epoch 100/120\n",
            "1/1 [==============================] - 0s 9ms/step - loss: 0.6280 - accuracy: 0.8182\n",
            "Epoch 101/120\n",
            "1/1 [==============================] - 0s 10ms/step - loss: 0.6063 - accuracy: 0.8182\n",
            "Epoch 102/120\n",
            "1/1 [==============================] - 0s 11ms/step - loss: 0.5842 - accuracy: 0.8182\n",
            "Epoch 103/120\n",
            "1/1 [==============================] - 0s 16ms/step - loss: 0.5626 - accuracy: 0.8182\n",
            "Epoch 104/120\n",
            "1/1 [==============================] - 0s 12ms/step - loss: 0.5415 - accuracy: 0.8182\n",
            "Epoch 105/120\n",
            "1/1 [==============================] - 0s 11ms/step - loss: 0.5206 - accuracy: 0.8182\n",
            "Epoch 106/120\n",
            "1/1 [==============================] - 0s 13ms/step - loss: 0.4998 - accuracy: 0.8182\n",
            "Epoch 107/120\n",
            "1/1 [==============================] - 0s 16ms/step - loss: 0.4794 - accuracy: 0.9091\n",
            "Epoch 108/120\n",
            "1/1 [==============================] - 0s 18ms/step - loss: 0.4597 - accuracy: 0.9091\n",
            "Epoch 109/120\n",
            "1/1 [==============================] - 0s 13ms/step - loss: 0.4406 - accuracy: 0.9091\n",
            "Epoch 110/120\n",
            "1/1 [==============================] - 0s 17ms/step - loss: 0.4218 - accuracy: 0.9091\n",
            "Epoch 111/120\n",
            "1/1 [==============================] - 0s 23ms/step - loss: 0.4037 - accuracy: 0.9091\n",
            "Epoch 112/120\n",
            "1/1 [==============================] - 0s 15ms/step - loss: 0.3857 - accuracy: 1.0000\n",
            "Epoch 113/120\n",
            "1/1 [==============================] - 0s 27ms/step - loss: 0.3686 - accuracy: 1.0000\n",
            "Epoch 114/120\n",
            "1/1 [==============================] - 0s 13ms/step - loss: 0.3521 - accuracy: 1.0000\n",
            "Epoch 115/120\n",
            "1/1 [==============================] - 0s 12ms/step - loss: 0.3358 - accuracy: 1.0000\n",
            "Epoch 116/120\n",
            "1/1 [==============================] - 0s 14ms/step - loss: 0.3203 - accuracy: 1.0000\n",
            "Epoch 117/120\n",
            "1/1 [==============================] - 0s 12ms/step - loss: 0.3052 - accuracy: 1.0000\n",
            "Epoch 118/120\n",
            "1/1 [==============================] - 0s 17ms/step - loss: 0.2907 - accuracy: 1.0000\n",
            "Epoch 119/120\n",
            "1/1 [==============================] - 0s 13ms/step - loss: 0.2768 - accuracy: 1.0000\n",
            "Epoch 120/120\n",
            "1/1 [==============================] - 0s 10ms/step - loss: 0.2635 - accuracy: 1.0000\n"
          ],
          "name": "stdout"
        }
      ]
    },
    {
      "cell_type": "code",
      "metadata": {
        "colab": {
          "base_uri": "https://localhost:8080/",
          "height": 282
        },
        "id": "1c-33tiACoL2",
        "outputId": "926f4800-d623-4a49-e309-5a3d67998c7f"
      },
      "source": [
        "import matplotlib.pyplot as plt\n",
        "plt.plot(history.history['accuracy'])"
      ],
      "execution_count": 95,
      "outputs": [
        {
          "output_type": "execute_result",
          "data": {
            "text/plain": [
              "[<matplotlib.lines.Line2D at 0x7f2557448590>]"
            ]
          },
          "metadata": {
            "tags": []
          },
          "execution_count": 95
        },
        {
          "output_type": "display_data",
          "data": {
            "image/png": "[encoded data removed]",
            "text/plain": [
              "<Figure size 432x288 with 1 Axes>"
            ]
          },
          "metadata": {
            "tags": [],
            "needs_background": "light"
          }
        }
      ]
    },
    {
      "cell_type": "markdown",
      "metadata": {
        "id": "91vU63CTXXJM"
      },
      "source": [
        "## Predicting the next word (3 most probable)"
      ]
    },
    {
      "cell_type": "code",
      "metadata": {
        "colab": {
          "base_uri": "https://localhost:8080/"
        },
        "id": "nxdW5PXDO9iq",
        "outputId": "deee9041-f489-4344-baa5-66f5bc4146a1"
      },
      "source": [
        "from keras.preprocessing.sequence import pad_sequences\n",
        "\n",
        "input_text = input().strip().lower()\n",
        "encoded_text = tokenizer.texts_to_sequences([input_text])[0]\n",
        "pad_encoded = pad_sequences([encoded_text], maxlen=max_length, truncating='pre')\n",
        "print(encoded_text, pad_encoded)\n",
        "for i in (model.predict(pad_encoded)[0].argsort()[::-1][:3]):\n",
        "  pred_word = tokenizer.index_word[i]\n",
        "  print(\"Next word suggestion:\",pred_word)"
      ],
      "execution_count": 127,
      "outputs": [
        {
          "output_type": "stream",
          "text": [
            "how many days\n",
            "[1, 3, 4] [[1 3 4]]\n",
            "Next word suggestion: since\n",
            "Next word suggestion: many\n",
            "Next word suggestion: how\n"
          ],
          "name": "stdout"
        }
      ]
    }
  ]
}